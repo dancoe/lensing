{
 "cells": [
  {
   "cell_type": "code",
   "execution_count": 1,
   "metadata": {},
   "outputs": [],
   "source": [
    "from astropy.cosmology import FlatLambdaCDM\n",
    "import numpy as np\n",
    "from scipy.optimize import golden\n",
    "from scipy.constants import pi\n",
    "from astropy import units as u\n",
    "from astropy.constants import G\n",
    "from astropy.constants import c as c_light"
   ]
  },
  {
   "cell_type": "code",
   "execution_count": 2,
   "metadata": {},
   "outputs": [],
   "source": [
    "# Define the cosmology\n",
    "h = 0.7\n",
    "H0 = h * 100 * u.km / u.s / u.Mpc\n",
    "cosmo = FlatLambdaCDM(H0=H0, Om0=0.3)"
   ]
  },
  {
   "cell_type": "markdown",
   "metadata": {},
   "source": [
    "## NFW profile\n",
    "\n",
    "defined flexibly with any 2 parameters"
   ]
  },
  {
   "cell_type": "code",
   "execution_count": 3,
   "metadata": {},
   "outputs": [],
   "source": [
    "def Dds_Ds(zl, zs):\n",
    "    Dds = cosmo.angular_diameter_distance_z1z2(zl, zs)\n",
    "    Ds  = cosmo.angular_diameter_distance_z1z2(0 , zs)\n",
    "    return (Dds / Ds).value\n",
    "\n",
    "#def dccalc(z=None):\n",
    "def dvir_calc(z=None):\n",
    "    \"\"\"Calculate the virial overdensity (instead of 200).\"\"\"\n",
    "    if z is None:\n",
    "        z = zL\n",
    "\n",
    "    Omz = cosmo.Om(z)\n",
    "    OLz = 1 - Omz\n",
    "    dc = 18 * pi**2 - 82 * OLz - 39 * OLz**2\n",
    "    return dc\n",
    "\n",
    "def ddc(c, dc, dvir):\n",
    "    dc1 = (dvir / 3.) * c**3 / (np.log(1.+c) - c/(1.+c))\n",
    "    return np.abs(dc1 - dc)\n",
    "\n",
    "def cconv(c, dvir, dvirnew):\n",
    "    if np.isscalar(c):\n",
    "        dc = (dvir / 3.) * c**3 / (np.log(1.+c) - c/(1.+c))\n",
    "        cnew = golden(ddc, args=(dc, dvirnew), brack=[1, 30])\n",
    "    else:\n",
    "        cnew = [cconv(c1, dvir, dvirnew) for c1 in c]\n",
    "        cnew = np.array(cnew)\n",
    "    return cnew\n",
    "\n",
    "def dMvirrs(rsKPC, c, dvir, Mvir):\n",
    "    NFW1 = NFW(zL)  # Use H0 in units of km/s/Mpc\n",
    "    NFW1.set(rsKPC * u.kpc, c=c, dvir=dvir)\n",
    "    Mvir1 = NFW1.Msph(NFW1.rvir).to(u.M_sun).value\n",
    "    return np.abs(Mvir.to(u.M_sun).value - Mvir1)\n",
    "\n",
    "class NFW:\n",
    "    def __init__(self, z=0.2):\n",
    "        global zL, DL, Ec, pc0, pc, p_E\n",
    "        zL = z\n",
    "        pc0 = (3 * H0**2) / (8 * pi * G)\n",
    "        pc = (3 * cosmo.H(zL)**2) / (8 * pi * G)\n",
    "        DL = cosmo.angular_diameter_distance(zL)\n",
    "        Ec = c_light**2 / (4 * pi * G * DL)\n",
    "        p_E = pc / Ec\n",
    "\n",
    "    def test(self):\n",
    "        print('DL:', DL.to(u.Mpc))\n",
    "        print('c:', c_light.to(u.km / u.s))\n",
    "        print('G:', G.to(u.m**3 / (u.kg * u.s**2)))\n",
    "        print('Ec:', Ec.to(u.kg / u.m**2))\n",
    "        print('H0:', H0.to(u.km / u.s / u.Mpc))\n",
    "        print('pc0:', pc0.to(u.M_sun / u.kpc**3))\n",
    "        print('p_E:', p_E.to(1/u.kpc))\n",
    "        print('pc:', pc.to(u.M_sun / u.kpc**3))\n",
    "\n",
    "    def set(self, rs=0*u.Mpc, c=None, dvir=200, rvir=0*u.Mpc, dc=None, ks=None, ps=0*u.kg/u.m**3, Mvir=0*u.M_sun):\n",
    "        # define with any 2 parameters; rest will be calculated\n",
    "        # additionally can set dvir or dc\n",
    "\n",
    "        if Mvir > 0*u.M_sun and c and dvir:\n",
    "            rs = golden(dMvirrs, args=(c, dvir, Mvir), brack=[1, 10000]) * u.kpc\n",
    "\n",
    "        if ks:\n",
    "            if rs.value == 0:\n",
    "                rs = ks / p_E / dc\n",
    "            elif dc is None:\n",
    "                dc = ks / p_E / rs\n",
    "\n",
    "        if ps > 0*u.kg/u.m**3:\n",
    "            dc = ps / pc\n",
    "\n",
    "        if c is None:\n",
    "            if rs > 0*u.Mpc and rvir > 0*u.Mpc:\n",
    "                c = rvir / rs\n",
    "            elif dc:\n",
    "                c = golden(ddc, args=(dc, dvir), brack=[1, 30])\n",
    "\n",
    "        if dc is None:\n",
    "            dc = (dvir / 3.) * c**3 / (np.log(1.+c) - c/(1.+c))\n",
    "\n",
    "        if rs.value == 0:\n",
    "            if rvir > 0*u.Mpc and c:\n",
    "                rs = rvir / c\n",
    "\n",
    "        if rvir.value == 0:\n",
    "            rvir = rs * c\n",
    "\n",
    "        if ks is None:\n",
    "            ks = p_E * dc * rs\n",
    "\n",
    "        if ps.value == 0:\n",
    "            ps = dc * pc\n",
    "\n",
    "        self.rs = rs\n",
    "        self.c = c\n",
    "        self.dvir = dvir\n",
    "        self.rvir = rvir\n",
    "        self.dc = dc\n",
    "        self.ks = ks\n",
    "        self.ps = ps\n",
    "\n",
    "    def p(self, R):\n",
    "        x = R / self.rs\n",
    "        x = x.to(u.dimensionless_unscaled).value\n",
    "        return self.ps / x / (1 + x)**2\n",
    "\n",
    "    def F(self, x):\n",
    "        Flo = (1 - np.arccosh(1/x) / np.sqrt(1 - x**2)) / (x**2 - 1)\n",
    "        F1 = 1 / 3.\n",
    "        Fhi = (1 - np.arccos(1/x) / np.sqrt(x**2 - 1)) / (x**2 - 1)\n",
    "        Fall = np.where(x > 1, Fhi, Flo)\n",
    "        Fall = np.where(x == 1, F1, Fall)\n",
    "        return Fall\n",
    "\n",
    "    def k(self, R, zs=None):\n",
    "        x = R / self.rs\n",
    "        x = x.to(u.dimensionless_unscaled).value\n",
    "        k = 2 * self.ks * self.F(x)\n",
    "        if zs is not None:\n",
    "            k *= Dds_Ds(zL, zs)\n",
    "        return k\n",
    "\n",
    "    def y(self, R, zs=None):\n",
    "        x = R / self.rs\n",
    "        x = x.to(u.dimensionless_unscaled).value\n",
    "        y = 2 * self.ks * (2 * self.Gcyl(x) / x**2 - self.F(x))\n",
    "        if zs is not None:\n",
    "            y *= Dds_Ds(zL, zs)\n",
    "        return y\n",
    "\n",
    "    def g(self, R, zs=None):\n",
    "        return self.y(R, zs) / (1 - self.k(R, zs))\n",
    "\n",
    "    def Gcyl(self, x):\n",
    "        Glo = np.log(x / 2.) + np.arccosh(1/x) / np.sqrt(1 - x**2)\n",
    "        G1  = np.log(x / 2.) + 1\n",
    "        Ghi = np.log(x / 2.) + np.arccos(1/x) / np.sqrt(x**2 - 1)\n",
    "        Gall = np.where(x > 1, Ghi, Glo)\n",
    "        Gall = np.where(x == 1, G1, Gall)\n",
    "        return Gall\n",
    "\n",
    "    def Mcyl(self, R):\n",
    "        x = R / self.rs\n",
    "        x = x.to(u.dimensionless_unscaled).value\n",
    "        M = 4 * pi * self.ks * self.Gcyl(x) * Ec * self.rs**2\n",
    "        return M.to(u.M_sun)\n",
    "\n",
    "    def kavgcyl(self, R, zs=1e30):\n",
    "        x = R / self.rs\n",
    "        x = x.to(u.dimensionless_unscaled).value\n",
    "        Dds_Ds1 = Dds_Ds(zL, zs)\n",
    "        return 4 * self.ks * self.Gcyl(x) / x**2 * Dds_Ds1\n",
    "\n",
    "    def RE(self, xunit=u.kpc, zs=1e30):\n",
    "        Dds_Ds1 = Dds_Ds(zL, zs)\n",
    "        \n",
    "        def dk(Rx):\n",
    "            x = Rx * xunit / self.rs\n",
    "            x = x.to(u.dimensionless_unscaled).value\n",
    "            kavg = 4 * self.ks * self.Gcyl(x) / x**2 * Dds_Ds1\n",
    "            return np.abs(kavg - 1)\n",
    "\n",
    "        RE = golden(dk, brack=[1, 1000]) * xunit\n",
    "        return RE\n",
    "\n",
    "    def Gsph(self, x):\n",
    "        return np.log(1 + x) - x / (1 + x)\n",
    "\n",
    "    def Msph(self, R):\n",
    "        x = R / self.rs\n",
    "        x = x.to(u.dimensionless_unscaled).value\n",
    "        M = 4 * pi * self.ps * self.rs**3 * self.Gsph(x)\n",
    "        return M.to(u.M_sun)\n",
    "    \n",
    "    def Mvir(self):\n",
    "        M = self.Msph(self.rvir)\n",
    "        return M.to(u.M_sun)\n"
   ]
  },
  {
   "cell_type": "code",
   "execution_count": 4,
   "metadata": {},
   "outputs": [],
   "source": [
    "z = 0.2  # lens redshift"
   ]
  },
  {
   "cell_type": "code",
   "execution_count": 5,
   "metadata": {},
   "outputs": [
    {
     "data": {
      "text/plain": [
       "117.66888031293388"
      ]
     },
     "execution_count": 5,
     "metadata": {},
     "output_type": "execute_result"
    }
   ],
   "source": [
    "dvir = dvir_calc(z)  # virial overdensity at that redshift\n",
    "dvir"
   ]
  },
  {
   "cell_type": "markdown",
   "metadata": {},
   "source": [
    "## Set the NFW halo parameters\n",
    "\n",
    "2 parameters are required to define the rest.  \n",
    "It's flexible, so you can choose which parameters you set.  \n",
    "First, we'll do (M_vir, c)"
   ]
  },
  {
   "cell_type": "code",
   "execution_count": 6,
   "metadata": {},
   "outputs": [],
   "source": [
    "halo = NFW()\n",
    "halo.set(Mvir=1e15*u.M_sun, c=4, dvir=dvir)  # set (Mvir, c)"
   ]
  },
  {
   "cell_type": "code",
   "execution_count": 7,
   "metadata": {},
   "outputs": [
    {
     "data": {
      "text/latex": [
       "$9.9999999 \\times 10^{14} \\; \\mathrm{M_{\\odot}}$"
      ],
      "text/plain": [
       "<Quantity 9.99999994e+14 solMass>"
      ]
     },
     "execution_count": 7,
     "metadata": {},
     "output_type": "execute_result"
    }
   ],
   "source": [
    "halo.Mvir()  # virial mass"
   ]
  },
  {
   "cell_type": "code",
   "execution_count": 8,
   "metadata": {},
   "outputs": [
    {
     "data": {
      "text/latex": [
       "$2.3048774 \\; \\mathrm{Mpc}$"
      ],
      "text/plain": [
       "<Quantity 2.3048774 Mpc>"
      ]
     },
     "execution_count": 8,
     "metadata": {},
     "output_type": "execute_result"
    }
   ],
   "source": [
    "rvir = halo.rvir.to(u.Mpc)  # virial radius\n",
    "rvir"
   ]
  },
  {
   "cell_type": "code",
   "execution_count": 9,
   "metadata": {},
   "outputs": [
    {
     "data": {
      "text/latex": [
       "$9.9999999 \\times 10^{14} \\; \\mathrm{M_{\\odot}}$"
      ],
      "text/plain": [
       "<Quantity 9.99999994e+14 solMass>"
      ]
     },
     "execution_count": 9,
     "metadata": {},
     "output_type": "execute_result"
    }
   ],
   "source": [
    "halo.Msph(rvir)  # mass within sphere"
   ]
  },
  {
   "cell_type": "code",
   "execution_count": 10,
   "metadata": {},
   "outputs": [
    {
     "name": "stderr",
     "output_type": "stream",
     "text": [
      "/var/folders/y3/vsjr6j554mnfpgy_m1xrnckm0003tz/T/ipykernel_956/1019092455.py:135: RuntimeWarning: invalid value encountered in arccosh\n",
      "  Glo = np.log(x / 2.) + np.arccosh(1/x) / np.sqrt(1 - x**2)\n",
      "/var/folders/y3/vsjr6j554mnfpgy_m1xrnckm0003tz/T/ipykernel_956/1019092455.py:135: RuntimeWarning: invalid value encountered in sqrt\n",
      "  Glo = np.log(x / 2.) + np.arccosh(1/x) / np.sqrt(1 - x**2)\n"
     ]
    },
    {
     "data": {
      "text/latex": [
       "$1.2767913 \\times 10^{15} \\; \\mathrm{M_{\\odot}}$"
      ],
      "text/plain": [
       "<Quantity 1.2767913e+15 solMass>"
      ]
     },
     "execution_count": 10,
     "metadata": {},
     "output_type": "execute_result"
    }
   ],
   "source": [
    "halo.Mcyl(rvir)  # mass within cylinder"
   ]
  },
  {
   "cell_type": "markdown",
   "metadata": {},
   "source": [
    "Now try setting (r_vir, c)"
   ]
  },
  {
   "cell_type": "code",
   "execution_count": 11,
   "metadata": {},
   "outputs": [
    {
     "data": {
      "text/latex": [
       "$8.1668863 \\times 10^{13} \\; \\mathrm{M_{\\odot}}$"
      ],
      "text/plain": [
       "<Quantity 8.16688625e+13 solMass>"
      ]
     },
     "execution_count": 11,
     "metadata": {},
     "output_type": "execute_result"
    }
   ],
   "source": [
    "halo.set(rvir=1*u.Mpc, c=4, dvir=dvir)  # set (rvir, c)\n",
    "halo.Mvir()  # virial mass"
   ]
  },
  {
   "cell_type": "markdown",
   "metadata": {},
   "source": [
    "## Set the NFW halo parameters"
   ]
  },
  {
   "cell_type": "markdown",
   "metadata": {},
   "source": [
    "## intermediate quantities"
   ]
  },
  {
   "cell_type": "code",
   "execution_count": 12,
   "metadata": {},
   "outputs": [
    {
     "name": "stdout",
     "output_type": "stream",
     "text": [
      "DL: 680.6026992121936 Mpc\n",
      "c: 299792.458 km / s\n",
      "G: 6.6743e-11 m3 / (kg s2)\n",
      "Ec: 5.102483462543831 kg / m2\n",
      "H0: 70.0 km / (Mpc s)\n",
      "pc0: 135.9929473504571 solMass / kpc3\n",
      "p_E: 6.781558159875472e-08 1 / kpc\n",
      "pc: 165.6938070517969 solMass / kpc3\n"
     ]
    }
   ],
   "source": [
    "halo.test()"
   ]
  }
 ],
 "metadata": {
  "kernelspec": {
   "display_name": "Python 3",
   "language": "python",
   "name": "python3"
  },
  "language_info": {
   "codemirror_mode": {
    "name": "ipython",
    "version": 3
   },
   "file_extension": ".py",
   "mimetype": "text/x-python",
   "name": "python",
   "nbconvert_exporter": "python",
   "pygments_lexer": "ipython3",
   "version": "3.11.9"
  }
 },
 "nbformat": 4,
 "nbformat_minor": 2
}
