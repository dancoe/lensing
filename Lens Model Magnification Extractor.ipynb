{
 "cells": [
  {
   "cell_type": "markdown",
   "metadata": {},
   "source": [
    "# Lens Model Magnification Extractor"
   ]
  },
  {
   "cell_type": "markdown",
   "metadata": {},
   "source": [
    "This script returns lens model magnification estimates from three Hubble Treasury programs: CLASH, Frontier Fields, and RELICS. Inputs are RA, Dec, z of the strongly lensed galaxy. The script determines the nearest galaxy cluster and finds all lens models on MAST, reading the files in place on the server (without downloading to your computer), and then outputs the magnification estimates. In addition to the \"best\" estimate from each model, the user may optionally (not by default) choose to also extract the full range of ~100 estimates from each lens model to probe the uncertainties."
   ]
  },
  {
   "cell_type": "markdown",
   "metadata": {},
   "source": [
    "WARNING: This will download model FITS files to your Astropy cache (a hidden directory with cryptic filenames). If you analyze many clusters, this could consume hundreds of GB of disk space. A better implementation of this code would download the models to a non-hidden directory preserving filenames and directory structures..."
   ]
  },
  {
   "cell_type": "markdown",
   "metadata": {},
   "source": [
    "The code is the same as used by the Frontier Fields lens model interactive web tool:    \n",
    "https://archive.stsci.edu/prepds/frontier/lensmodels/webtool"
   ]
  },
  {
   "cell_type": "markdown",
   "metadata": {},
   "source": [
    "The penultimate command lists the available lens models. Users should take care to select desired models, including more recent versions with better constraints (e.g., v2 instead of v1). Accessing each online file takes some time. The Frontier Fields have many lens models contributed by various groups; it would take a long time to access them all. The FF webtool runs more quickly because the files are on the same server."
   ]
  },
  {
   "cell_type": "markdown",
   "metadata": {},
   "source": [
    "Questions / feedback / suggestions: Dan Coe dcoe@stsci.edu"
   ]
  },
  {
   "cell_type": "markdown",
   "metadata": {},
   "source": [
    "### CLASH\n",
    "https://www.stsci.edu/~postman/CLASH/    \n",
    "https://archive.stsci.edu/prepds/clash/\n",
    "\n",
    "### Frontier Fields\n",
    "https://outerspace.stsci.edu/display/HPR/HST+Frontier+Fields    \n",
    "https://archive.stsci.edu/prepds/frontier/\n",
    "\n",
    "### RELICS\n",
    "https://relics.stsci.edu    \n",
    "https://archive.stsci.edu/prepds/relics/"
   ]
  },
  {
   "cell_type": "code",
   "execution_count": 1,
   "metadata": {},
   "outputs": [],
   "source": [
    "from astropy import units as u\n",
    "from astropy.coordinates import SkyCoord\n",
    "import astropy.io.fits as pyfits\n",
    "import astropy.wcs as pywcs\n",
    "\n",
    "import os\n",
    "import numpy as np\n",
    "\n",
    "def roundint(x):\n",
    "    return np.round(x).astype(int)"
   ]
  },
  {
   "cell_type": "code",
   "execution_count": 2,
   "metadata": {},
   "outputs": [],
   "source": [
    "# Read online directories and return files with names including search terms\n",
    "\n",
    "import requests\n",
    "from bs4 import BeautifulSoup\n",
    "\n",
    "def process_string_list(string_list):\n",
    "    if type(string_list) == str:\n",
    "        if ' ' in string_list:\n",
    "            string_list = string_list.split()\n",
    "        else:\n",
    "            string_list = [string_list]\n",
    "    return string_list\n",
    "\n",
    "def online_files(url, search_strings=[], exclude_strings=[]):\n",
    "    '''Return directory list of files at url\n",
    "    pruned such that filenames contain search_strings and not exclude_strings'''\n",
    "    soup = BeautifulSoup(requests.get(url).text)\n",
    "    image_files = [tag.text for tag in soup.find_all('a')]\n",
    "    search_strings = process_string_list(search_strings)\n",
    "    for search_string in search_strings:\n",
    "        image_files = [file for file in image_files if search_string in file]\n",
    "    exclude_strings = process_string_list(exclude_strings)\n",
    "    for exclude_string in exclude_strings:\n",
    "        image_files = [file for file in image_files if exclude_string not in file]\n",
    "    image_files = [os.path.join(url, file) for file in image_files]\n",
    "    return image_files\n",
    "\n",
    "def online_file(url, search_strings=[], exclude_strings=[]):\n",
    "    '''Return single file from url directory with filename including search_strings and not exclude_strings'''\n",
    "    image_files = online_files(url, search_strings, exclude_strings)\n",
    "    if len(image_files) == 1:\n",
    "        return image_files[0]\n",
    "    elif len(image_files) == 1:\n",
    "        raise ValueError('No matches')\n",
    "    else:\n",
    "        raise ValueError('More than one match')"
   ]
  },
  {
   "cell_type": "code",
   "execution_count": 3,
   "metadata": {},
   "outputs": [],
   "source": [
    "import astropy.units as u\n",
    "from astropy.cosmology import FlatLambdaCDM\n",
    "cosmo = FlatLambdaCDM(H0=70, Om0=0.3)\n",
    "\n",
    "def Dds_Ds(zl, zs):\n",
    "    Dds = cosmo.angular_diameter_distance_z1z2(zl, zs)\n",
    "    Ds  = cosmo.angular_diameter_distance_z1z2(0 , zs)\n",
    "    return (Dds / Ds).value"
   ]
  },
  {
   "cell_type": "code",
   "execution_count": 4,
   "metadata": {},
   "outputs": [],
   "source": [
    "def extract_magnification(kappa_file, gamma_file, RA, Dec, z_lens, z_source, verbose=True):\n",
    "    if verbose:\n",
    "        print('Loading %s ...' % kappa_file)\n",
    "        \n",
    "    hdu = pyfits.open(kappa_file, memmap=1)\n",
    "    kappa = data = hdu[0].data\n",
    "\n",
    "    header = hdu[0].header\n",
    "    wcs = pywcs.WCS(header)\n",
    "    sky = np.array([[RA, Dec]])\n",
    "    x, y = wcs.wcs_world2pix(sky, 1)[0]  # with (1,1) at the origin\n",
    "    \n",
    "    x = roundint(x)\n",
    "    y = roundint(y)\n",
    "    \n",
    "    ny, nx = data.shape\n",
    "    if (x < 0) or (x > nx-1) or (y < 0) or (y > ny-1):\n",
    "        return None\n",
    "    \n",
    "    if verbose:\n",
    "        print('Loading %s ...' % gamma_file)\n",
    "        \n",
    "    gamma = pyfits.open(gamma_file, memmap=1)[0].data\n",
    "\n",
    "    kappa = kappa[y-1, x-1]\n",
    "    gamma = gamma[y-1, x-1]\n",
    "\n",
    "    Dds_Ds1 = Dds_Ds(z_lens, z_source)\n",
    "    kappa = Dds_Ds1 * kappa\n",
    "    gamma = Dds_Ds1 * gamma\n",
    "    \n",
    "    magnif = 1 / ((1 - kappa)**2 - gamma**2)\n",
    "    magnif = abs(magnif)\n",
    "    \n",
    "    return magnif"
   ]
  },
  {
   "cell_type": "code",
   "execution_count": 5,
   "metadata": {},
   "outputs": [],
   "source": [
    "from astropy.io import ascii\n",
    "clusters = ascii.read('http://www.stsci.edu/~dcoe/clusters.txt')"
   ]
  },
  {
   "cell_type": "code",
   "execution_count": 6,
   "metadata": {},
   "outputs": [],
   "source": [
    "def find_closest_cluster(target_coords, distance_match=5*u.arcmin):\n",
    "    for i in range(len(clusters)):\n",
    "        cluster_coords = SkyCoord(clusters['RA'][i], clusters['Dec'][i], unit=(u.hourangle, u.deg))\n",
    "        distance = target_coords.separation(cluster_coords)\n",
    "        if distance < distance_match:\n",
    "            cluster = clusters['name'][i]\n",
    "            z_lens = float(clusters['z'][i])\n",
    "            program = clusters['program'][i]\n",
    "            return cluster, z_lens, program\n",
    "    return"
   ]
  },
  {
   "cell_type": "code",
   "execution_count": 7,
   "metadata": {},
   "outputs": [],
   "source": [
    "def extract_magnifications(model_directory, output_file=None, confidence_percentile=None):\n",
    "    print('Directory', model_directory)\n",
    "    model_name = model_directory.replace(model_top_directory, '')\n",
    "    if model_name[-1] == '/':\n",
    "        model_name = model_name[:-1]\n",
    "        \n",
    "    model_name = model_name.replace('/', '_')\n",
    "    \n",
    "    kappa_file = online_file(model_directory, '_kappa.fits')\n",
    "    gamma_file = online_file(model_directory, '_gamma.fits')\n",
    "    magnif_best  = extract_magnification(kappa_file, gamma_file, ra_deg, dec_deg, z_lens, z_source)\n",
    "    print(ra_deg, dec_deg, z_source, cluster, z_lens, model_name, magnif_best)\n",
    "\n",
    "    outline = ''\n",
    "    outline += '  %s' % id.ljust(20)\n",
    "    outline += '  %11.7f' % ra_deg\n",
    "    outline += '  % 11.7f' % dec_deg\n",
    "    outline += '  %6.4f' % z_source\n",
    "    outline += '  %s' % cluster.ljust(15)\n",
    "    outline += '  %6.4f' % z_lens\n",
    "\n",
    "    outline += '  %s' % model_name.ljust(20)\n",
    "    outline += ' %5.2f' % magnif_best\n",
    "\n",
    "    magnifications = []\n",
    "\n",
    "    if confidence_percentile:\n",
    "        # Extract estimates from range of ~100 models\n",
    "        range_directory = os.path.join(model_directory, 'range')\n",
    "        print(range_directory)\n",
    "        imodel = 0\n",
    "        while 1:\n",
    "            try:\n",
    "                kappa_file = online_file(range_directory, 'map%03d_kappa.fits' % imodel)\n",
    "                gamma_file = online_file(range_directory, 'map%03d_gamma.fits' % imodel)\n",
    "                magnif  = extract_magnification(kappa_file, gamma_file, ra_deg, dec_deg, z_lens, z_source)\n",
    "                print('map%03d' % imodel, magnif)\n",
    "                magnifications.append(magnif)\n",
    "                imodel += 1\n",
    "            except:  # until done\n",
    "                print('NOT FOUND')\n",
    "                break\n",
    "    \n",
    "    if len(magnifications):\n",
    "        # confidence_percentile = 68.3  # percent of models nearest median\n",
    "        sigma1 = (100 - confidence_percentile) / 2\n",
    "        percentiles = lo, med, hi = np.percentile(magnifications, (sigma1, 50, 100-sigma1))\n",
    "        outline += ' %5.2f' % magnif_med\n",
    "        outline += ' %5.2f' % magnif_lo\n",
    "        outline += ' %5.2f' % magnif_hi\n",
    "\n",
    "        for magnif in np.sort(magnifications):\n",
    "            outline += ' %5.2f' % magnif\n",
    "\n",
    "    outline += '\\n'\n",
    "\n",
    "    if output_file:\n",
    "        fout = open(output_file, 'a')\n",
    "        fout.write(outline)\n",
    "        fout.close()\n",
    "    \n",
    "    return outline"
   ]
  },
  {
   "cell_type": "code",
   "execution_count": 8,
   "metadata": {},
   "outputs": [
    {
     "data": {
      "text/plain": [
       "(101.98221249999999, 70.24326666666667)"
      ]
     },
     "execution_count": 8,
     "metadata": {},
     "output_type": "execute_result"
    }
   ],
   "source": [
    "# CLASH\n",
    "id = 'MACS0647-JD1'\n",
    "RA  =  '06:47:55.731'.replace(':', ' ')\n",
    "Dec = '+70:14:35.76'.replace(':', ' ')\n",
    "z_source = 11\n",
    "target_coords = SkyCoord(RA, Dec, unit=(u.hourangle, u.deg))\n",
    "ra_deg = target_coords.ra.value\n",
    "dec_deg = target_coords.dec.value\n",
    "ra_deg, dec_deg"
   ]
  },
  {
   "cell_type": "code",
   "execution_count": 9,
   "metadata": {},
   "outputs": [],
   "source": [
    "# RELICS\n",
    "id = 'SPT0615-JD'\n",
    "RA  =  '06 15 55.03'\n",
    "Dec = '-57 46 19.56'\n",
    "z_source = 10\n",
    "target_coords = SkyCoord(RA, Dec, unit=(u.hourangle, u.deg))\n",
    "ra_deg = target_coords.ra.value\n",
    "dec_deg = target_coords.dec.value"
   ]
  },
  {
   "cell_type": "code",
   "execution_count": 10,
   "metadata": {},
   "outputs": [],
   "source": [
    "# Frontier Fields (takes priority as most recent) / CLASH \n",
    "id = 'MACS1149-JD'\n",
    "RA  =  '11 49 33.584'\n",
    "Dec = '22 24 45.78'\n",
    "z_source = 9.11\n",
    "target_coords = SkyCoord(RA, Dec, unit=(u.hourangle, u.deg))\n",
    "ra_deg = target_coords.ra.value\n",
    "dec_deg = target_coords.dec.value"
   ]
  },
  {
   "cell_type": "code",
   "execution_count": 11,
   "metadata": {},
   "outputs": [
    {
     "data": {
      "text/plain": [
       "('macs1149', 0.543, 'frontier')"
      ]
     },
     "execution_count": 11,
     "metadata": {},
     "output_type": "execute_result"
    }
   ],
   "source": [
    "cluster, z_lens, program = find_closest_cluster(target_coords)\n",
    "cluster, z_lens, program"
   ]
  },
  {
   "cell_type": "code",
   "execution_count": 12,
   "metadata": {},
   "outputs": [
    {
     "data": {
      "text/plain": [
       "['https://archive.stsci.edu/missions/hlsp/frontier/macs1149/models/bradac/v1/',\n",
       " 'https://archive.stsci.edu/missions/hlsp/frontier/macs1149/models/cats/v1/',\n",
       " 'https://archive.stsci.edu/missions/hlsp/frontier/macs1149/models/cats/v4.1/',\n",
       " 'https://archive.stsci.edu/missions/hlsp/frontier/macs1149/models/cats/v4/',\n",
       " 'https://archive.stsci.edu/missions/hlsp/frontier/macs1149/models/diego/v4.1/',\n",
       " 'https://archive.stsci.edu/missions/hlsp/frontier/macs1149/models/diego/v4/',\n",
       " 'https://archive.stsci.edu/missions/hlsp/frontier/macs1149/models/glafic/v3/',\n",
       " 'https://archive.stsci.edu/missions/hlsp/frontier/macs1149/models/keeton/v4/',\n",
       " 'https://archive.stsci.edu/missions/hlsp/frontier/macs1149/models/merten/v1/',\n",
       " 'https://archive.stsci.edu/missions/hlsp/frontier/macs1149/models/sharon/v1/',\n",
       " 'https://archive.stsci.edu/missions/hlsp/frontier/macs1149/models/sharon/v2.1/',\n",
       " 'https://archive.stsci.edu/missions/hlsp/frontier/macs1149/models/sharon/v2/',\n",
       " 'https://archive.stsci.edu/missions/hlsp/frontier/macs1149/models/sharon/v4/',\n",
       " 'https://archive.stsci.edu/missions/hlsp/frontier/macs1149/models/sharon/v4cor/',\n",
       " 'https://archive.stsci.edu/missions/hlsp/frontier/macs1149/models/sharon/v4orig/',\n",
       " 'https://archive.stsci.edu/missions/hlsp/frontier/macs1149/models/williams/v1/',\n",
       " 'https://archive.stsci.edu/missions/hlsp/frontier/macs1149/models/williams/v4/',\n",
       " 'https://archive.stsci.edu/missions/hlsp/frontier/macs1149/models/zitrin-ltm-gauss/v1/',\n",
       " 'https://archive.stsci.edu/missions/hlsp/frontier/macs1149/models/zitrin-ltm/v1/']"
      ]
     },
     "execution_count": 12,
     "metadata": {},
     "output_type": "execute_result"
    }
   ],
   "source": [
    "def extract_model_directories(directory):\n",
    "    model_files = online_files(directory, '.fits')\n",
    "    if len(model_files):\n",
    "        all_model_directories.append(directory)\n",
    "\n",
    "    # Models in subdirectories (e.g., v2)\n",
    "    for subdirectory in online_files(directory, '/', 'range'):\n",
    "        extract_model_directories(subdirectory)\n",
    "\n",
    "model_top_directory = 'https://archive.stsci.edu/missions/hlsp/%s/%s/models/' % (program, cluster)\n",
    "all_model_directories = []\n",
    "extract_model_directories(model_top_directory)\n",
    "all_model_directories"
   ]
  },
  {
   "cell_type": "code",
   "execution_count": 13,
   "metadata": {},
   "outputs": [
    {
     "data": {
      "text/plain": [
       "['https://archive.stsci.edu/missions/hlsp/frontier/macs1149/models/cats/v4.1/',\n",
       " 'https://archive.stsci.edu/missions/hlsp/frontier/macs1149/models/sharon/v4cor/',\n",
       " 'https://archive.stsci.edu/missions/hlsp/frontier/macs1149/models/glafic/v3/',\n",
       " 'https://archive.stsci.edu/missions/hlsp/frontier/macs1149/models/keeton/v4/',\n",
       " 'https://archive.stsci.edu/missions/hlsp/frontier/macs1149/models/williams/v4/']"
      ]
     },
     "execution_count": 13,
     "metadata": {},
     "output_type": "execute_result"
    }
   ],
   "source": [
    "def model_subset(model_directories, search_strings):\n",
    "    subset = []\n",
    "    for search_string in search_strings:\n",
    "        subset += [dir for dir in model_directories if search_string in dir]\n",
    "    \n",
    "    return subset\n",
    "\n",
    "model_directories = model_subset(all_model_directories, 'cats/v4.1 sharon/v4cor glafic keeton williams/v4'.split())\n",
    "model_directories"
   ]
  },
  {
   "cell_type": "code",
   "execution_count": 14,
   "metadata": {},
   "outputs": [
    {
     "name": "stdout",
     "output_type": "stream",
     "text": [
      "Directory https://archive.stsci.edu/missions/hlsp/frontier/macs1149/models/cats/v4.1/\n",
      "Loading https://archive.stsci.edu/missions/hlsp/frontier/macs1149/models/cats/v4.1/hlsp_frontier_model_macs1149_cats_v4.1_kappa.fits ...\n",
      "Loading https://archive.stsci.edu/missions/hlsp/frontier/macs1149/models/cats/v4.1/hlsp_frontier_model_macs1149_cats_v4.1_gamma.fits ...\n",
      "177.38993333333332 22.412716666666665 9.11 macs1149 0.543 cats_v4.1 175.44422027471245\n",
      "Directory https://archive.stsci.edu/missions/hlsp/frontier/macs1149/models/sharon/v4cor/\n",
      "Loading https://archive.stsci.edu/missions/hlsp/frontier/macs1149/models/sharon/v4cor/hlsp_frontier_model_macs1149_sharon_v4cor_kappa.fits ...\n",
      "Loading https://archive.stsci.edu/missions/hlsp/frontier/macs1149/models/sharon/v4cor/hlsp_frontier_model_macs1149_sharon_v4cor_gamma.fits ...\n",
      "177.38993333333332 22.412716666666665 9.11 macs1149 0.543 sharon_v4cor 6.479531536107709\n",
      "Directory https://archive.stsci.edu/missions/hlsp/frontier/macs1149/models/glafic/v3/\n",
      "Loading https://archive.stsci.edu/missions/hlsp/frontier/macs1149/models/glafic/v3/hlsp_frontier_model_macs1149_glafic_v3_kappa.fits ...\n",
      "Loading https://archive.stsci.edu/missions/hlsp/frontier/macs1149/models/glafic/v3/hlsp_frontier_model_macs1149_glafic_v3_gamma.fits ...\n",
      "177.38993333333332 22.412716666666665 9.11 macs1149 0.543 glafic_v3 17.79557666293337\n",
      "Directory https://archive.stsci.edu/missions/hlsp/frontier/macs1149/models/keeton/v4/\n",
      "Loading https://archive.stsci.edu/missions/hlsp/frontier/macs1149/models/keeton/v4/hlsp_frontier_model_macs1149_keeton_v4_kappa.fits ...\n",
      "Loading https://archive.stsci.edu/missions/hlsp/frontier/macs1149/models/keeton/v4/hlsp_frontier_model_macs1149_keeton_v4_gamma.fits ...\n",
      "177.38993333333332 22.412716666666665 9.11 macs1149 0.543 keeton_v4 8.235792205165597\n",
      "Directory https://archive.stsci.edu/missions/hlsp/frontier/macs1149/models/williams/v4/\n",
      "Loading https://archive.stsci.edu/missions/hlsp/frontier/macs1149/models/williams/v4/hlsp_frontier_model_macs1149_williams_v4_kappa.fits ...\n",
      "Loading https://archive.stsci.edu/missions/hlsp/frontier/macs1149/models/williams/v4/hlsp_frontier_model_macs1149_williams_v4_gamma.fits ...\n",
      "177.38993333333332 22.412716666666665 9.11 macs1149 0.543 williams_v4 29.676071964450504\n"
     ]
    }
   ],
   "source": [
    "headline = 'id                    ra            dec         z_source old_mu cluster         z_lens  lens_model            best  med   lo    hi '\n",
    "for imodel in range(100):\n",
    "    headline += '  m%03d' % imodel\n",
    "\n",
    "output_file = 'magnifications.cat'\n",
    "\n",
    "fout = open(output_file, 'w')\n",
    "fout.write(headline+'\\n')\n",
    "fout.close()\n",
    "\n",
    "for model_directory in model_directories:\n",
    "    extract_magnifications(model_directory, output_file)"
   ]
  }
 ],
 "metadata": {
  "kernelspec": {
   "display_name": "Python 3",
   "language": "python",
   "name": "python3"
  },
  "language_info": {
   "codemirror_mode": {
    "name": "ipython",
    "version": 3
   },
   "file_extension": ".py",
   "mimetype": "text/x-python",
   "name": "python",
   "nbconvert_exporter": "python",
   "pygments_lexer": "ipython3",
   "version": "3.8.6"
  }
 },
 "nbformat": 4,
 "nbformat_minor": 4
}
